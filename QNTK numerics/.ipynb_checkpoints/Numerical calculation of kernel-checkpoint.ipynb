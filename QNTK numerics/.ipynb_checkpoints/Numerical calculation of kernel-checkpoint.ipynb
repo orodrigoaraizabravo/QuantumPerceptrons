{
 "cells": [
  {
   "cell_type": "code",
   "execution_count": 1,
   "id": "143eb2f3",
   "metadata": {},
   "outputs": [],
   "source": [
    "import matplotlib\n",
    "import numpy as np\n",
    "import matplotlib.pyplot as plt\n",
    "%matplotlib inline\n",
    "import tlquantum as tlq\n",
    "import tensorly as tl\n",
    "from tqdm import tqdm\n",
    "from torch import complex64, nn, optim, real\n",
    "import json"
   ]
  },
  {
   "cell_type": "code",
   "execution_count": 2,
   "id": "5dc6d823",
   "metadata": {},
   "outputs": [],
   "source": [
    "#Global parameters\n",
    "dt=0.01\n",
    "axes, device = ['x', 'z', 'x'], 'cpu'\n",
    "approx = 2\n",
    "ncontraq, ncontral = 2, 2"
   ]
  },
  {
   "cell_type": "code",
   "execution_count": 3,
   "id": "9df94882",
   "metadata": {},
   "outputs": [],
   "source": [
    "def prepare_circuit(N, L):\n",
    "    #Rotations \n",
    "    unitaries = []\n",
    "    for i in range(L):\n",
    "        for a in range(3):\n",
    "            unitaries.append(tlq.UnaryGatesUnitary(N, ncontraq, axis=axes[a], device=device))\n",
    "        #Star \n",
    "        unitaries.append(tlq.Perceptron_U(N, 2, approx, dt=dt, device=device))\n",
    "        \n",
    "    return tlq.TTCircuit(unitaries, ncontraq, ncontral)\n",
    "\n",
    "def kernel(circuit, input, op, criterion): \n",
    "    o=circuit.forward_expectation_value(input, op)\n",
    "    l=criterion(real(o), tl.tensor([0]))\n",
    "    l.backward()\n",
    "    K = 0\n",
    "    for p in circuit.parameters():\n",
    "        for e in p.grad: \n",
    "            K += ((e/l)*(e/l)).item()\n",
    "    return K"
   ]
  },
  {
   "cell_type": "markdown",
   "id": "0b02f129",
   "metadata": {},
   "source": [
    "### Four qubits\n",
    "\n",
    "In the following cells we employ four qubits and a depth of $L$ and sample the kernel. "
   ]
  },
  {
   "cell_type": "code",
   "execution_count": 3,
   "id": "a4b58f5c",
   "metadata": {},
   "outputs": [
    {
     "data": {
      "text/plain": [
       "\"\\npsi0 = tlq.spins_to_tt_state([0 for i in range(N)], device=device,dtype=complex64) # generate generic zero state |00000>\\npsi0 = tlq.qubits_contract(psi0, ncontraq)\\nopz = [tlq.IDENTITY().forward()]*(N-1)+[tlq.pauli_z()]\\ncrt=nn.MSELoss()\\n\\nKs = []\\n\\nfor i in tqdm(range(Nsamples)):\\n    c = prepare_circuit(N,L)\\n    Ks.append(kernel(c, psi0, opz, crt))\\n\\n    dic = {'N':N, 'L': L, 'Nsamples': Nsamples, 'Ks': Ks}\\n\\n    with open('Kernels_N4_L16.json', 'w') as ofile: \\n        json.dump(dic, ofile)\\n\""
      ]
     },
     "execution_count": 3,
     "metadata": {},
     "output_type": "execute_result"
    }
   ],
   "source": [
    "N=4\n",
    "L=16\n",
    "Nsamples=1000\n",
    "'''\n",
    "psi0 = tlq.spins_to_tt_state([0 for i in range(N)], device=device,dtype=complex64) # generate generic zero state |00000>\n",
    "psi0 = tlq.qubits_contract(psi0, ncontraq)\n",
    "opz = [tlq.IDENTITY().forward()]*(N-1)+[tlq.pauli_z()]\n",
    "crt=nn.MSELoss()\n",
    "\n",
    "Ks = []\n",
    "\n",
    "for i in tqdm(range(Nsamples)):\n",
    "    c = prepare_circuit(N,L)\n",
    "    Ks.append(kernel(c, psi0, opz, crt))\n",
    "\n",
    "    dic = {'N':N, 'L': L, 'Nsamples': Nsamples, 'Ks': Ks}\n",
    "\n",
    "    with open('Kernels_N4_L16.json', 'w') as ofile: \n",
    "        json.dump(dic, ofile)\n",
    "'''"
   ]
  },
  {
   "cell_type": "code",
   "execution_count": null,
   "id": "e0b60b6c",
   "metadata": {},
   "outputs": [],
   "source": [
    "#Plotting the kernel as a histogram\n",
    "x = np.linspace(0, 3*np.pi, 500)\n",
    "plt.plot(x, np.sin(x**2))\n",
    "plt.title('A simple chirp')\n",
    "plt.show()"
   ]
  },
  {
   "cell_type": "code",
   "execution_count": 3,
   "id": "ef1ca3fc",
   "metadata": {},
   "outputs": [],
   "source": [
    "with open('Kernels_N4_L16.json', 'r') as infile: \n",
    "    data=json.load(infile)"
   ]
  },
  {
   "cell_type": "code",
   "execution_count": null,
   "id": "a5feec37",
   "metadata": {},
   "outputs": [],
   "source": [
    "plt.plot(range(data['Nsamples']),data['Ks'])"
   ]
  },
  {
   "cell_type": "code",
   "execution_count": null,
   "id": "3beb033a",
   "metadata": {},
   "outputs": [],
   "source": []
  }
 ],
 "metadata": {
  "kernelspec": {
   "display_name": "Python 3",
   "language": "python",
   "name": "python3"
  },
  "language_info": {
   "codemirror_mode": {
    "name": "ipython",
    "version": 3
   },
   "file_extension": ".py",
   "mimetype": "text/x-python",
   "name": "python",
   "nbconvert_exporter": "python",
   "pygments_lexer": "ipython3",
   "version": "3.8.8"
  }
 },
 "nbformat": 4,
 "nbformat_minor": 5
}
