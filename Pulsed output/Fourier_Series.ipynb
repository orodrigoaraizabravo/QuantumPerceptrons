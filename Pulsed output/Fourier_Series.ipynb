{
 "cells": [
  {
   "cell_type": "code",
   "execution_count": 7,
   "id": "f8838d1d",
   "metadata": {},
   "outputs": [],
   "source": [
    "import numpy as np\n",
    "import matplotlib.pyplot as plt \n",
    "from matplotlib.pyplot import *\n",
    "import scipy.integrate as integrate"
   ]
  },
  {
   "cell_type": "markdown",
   "id": "69a342f8",
   "metadata": {},
   "source": [
    "## Functions to calculate the Fourier series \n",
    "\n",
    "Given a function $f$ in the interval $[l_i, l_f]$ we want to compute the Fourier coefficients of of the function. We will assume that $f$ is periodic with wavelength $(l_f-l_i)$. \n",
    "\n",
    "Code adapted by Rodrigo Araiza Bravo using code by Manas Sharma at https://www.bragitoff.com/2021/05/fourier-series-coefficients-and-visualization-python-program/#:~:text=The%20function%20returns%20the%20Fourier,cosine%20and%20sine%20terms%20respectively."
   ]
  },
  {
   "cell_type": "code",
   "execution_count": 34,
   "id": "45bb8216",
   "metadata": {},
   "outputs": [],
   "source": [
    "#This function returns the Fourier coefficients of a periodic function with [li, lf] as the period\n",
    "def fourier(li, lf, K, f):\n",
    "    l = (lf-li)/2\n",
    "    # Constant term\n",
    "    a0=1/l*integrate.quad(lambda x: f(x), li, lf)[0]\n",
    "    # Cosine coefficents\n",
    "    A = np.zeros((K))\n",
    "    # Sine coefficents\n",
    "    B = np.zeros((K))\n",
    "     \n",
    "    for k in range(1,K+1):\n",
    "        A[k-1]=1/l*integrate.quad(lambda x: f(x)*np.cos(k*np.pi*x/l), li, lf)[0]\n",
    "        B[k-1]=1/l*integrate.quad(lambda x: f(x)*np.sin(k*np.pi*x/l), li, lf)[0]\n",
    " \n",
    "    return [a0/2.0, A, B]\n",
    "\n",
    "# This functions returns the value of the Fourier series for a given value of x given the already calculated Fourier coefficients\n",
    "def fourierSeries(coeffs,x,l,K):\n",
    "    value = coeffs[0]\n",
    "    for k in range(1,K+1):\n",
    "        value = value + coeffs[1][k-1]*np.cos(k*np.pi*x/l) +  coeffs[2][k-1]*np.sin(k*np.pi*x/l)\n",
    "    return value\n",
    "\n",
    "# Function that will convert any given function 'f' defined in a given range '[li,lf]' to a periodic function of period 'lf-li' \n",
    "def periodicf(li,lf,f,x):\n",
    "    if x>=li and x<=lf :\n",
    "        return f(x)\n",
    "    elif x>lf:\n",
    "        x_new=x-(lf-li)\n",
    "        return periodicf(li,lf,f,x_new)\n",
    "    elif x<(li):\n",
    "        x_new=x+(lf-li)\n",
    "        return periodicf(li,lf,f,x_new)\n"
   ]
  },
  {
   "cell_type": "markdown",
   "id": "8e4b2e42",
   "metadata": {},
   "source": [
    "### List of functions we may want to approximate \n",
    "\n",
    "The function periodicf takes in a function and makes it periodic"
   ]
  },
  {
   "cell_type": "code",
   "execution_count": 35,
   "id": "673667d3",
   "metadata": {},
   "outputs": [],
   "source": [
    "def periodicf(li,lf,f,x):\n",
    "    if x>=li and x<=lf :\n",
    "        return f(x)\n",
    "    elif x>lf:\n",
    "        x_new=x-(lf-li)\n",
    "        return periodicf(li,lf,f,x_new)\n",
    "    elif x<(li):\n",
    "        x_new=x+(lf-li)\n",
    "        return periodicf(li,lf,f,x_new)\n",
    "\n",
    "def ReLu(x):    \n",
    "    if x<0: return 0\n",
    "    else: return x\n",
    "\n",
    "def ReLuP(x, li, lf): \n",
    "    return periodicf(li,lf,ReLu,x)\n",
    "\n",
    "def sigmoid(x): \n",
    "    return 1/(1+np.exp(-1))\n",
    "\n",
    "def sigmoidP(x, li, lf): \n",
    "    return periodicf(li, lf, sigmoid, x)\n",
    "\n",
    "def tanh(x): \n",
    "    return np.tanh(x)\n",
    "\n",
    "def tanhP(x, li, lf): \n",
    "    return periodicf(li, lf, tanh, x)\n",
    "\n",
    "def step(x): \n",
    "    if x<0: return 0\n",
    "    else: return 1\n",
    "    \n",
    "def stepP(x, li, lf): \n",
    "    return periodicf(li, lf, step, x)\n",
    "    \n",
    "def LeakyReLu(x, a=0.01): \n",
    "    if x<0: return a*x\n",
    "    else: return x\n",
    "    \n",
    "def LeakyReLuP(x, li, lf): \n",
    "    return periodicf(li, lf, LeakyReLu, x)\n",
    "\n",
    "def swish(x): \n",
    "    return x*sigmoid(x)\n",
    "\n",
    "def swishP(x, li, lf): \n",
    "    return periodicf(li, lf, swish, x)"
   ]
  },
  {
   "cell_type": "markdown",
   "id": "ce029430",
   "metadata": {},
   "source": [
    "Ex) Learning relu in the range where it's less than 1."
   ]
  },
  {
   "cell_type": "code",
   "execution_count": 38,
   "id": "844c6b98",
   "metadata": {},
   "outputs": [
    {
     "name": "stdout",
     "output_type": "stream",
     "text": [
      "Fourier coefficients for the ReLu wave\n",
      "\n",
      "a0 =0.7853981633974483\n",
      "an =[-6.36619772e-01  2.49800181e-16 -7.07355303e-02  5.55111512e-17\n",
      " -2.54647909e-02  1.74488764e-16 -1.29922403e-02  3.46944695e-17\n",
      " -7.85950336e-03 -3.79899587e-16]\n",
      "bn =[ 1.         -0.5         0.33333333 -0.25        0.2        -0.16666667\n",
      "  0.14285714 -0.125       0.11111111 -0.1       ]\n",
      "-----------------------\n",
      "\n",
      "\n"
     ]
    }
   ],
   "source": [
    "K=10\n",
    "li, lf= -np.pi, np.pi\n",
    "coeffs = fourier(li,lf,K,ReLu)\n",
    "print('Fourier coefficients for the ReLu wave\\n')\n",
    "print('a0 ='+str(coeffs[0]))\n",
    "print('an ='+str(coeffs[1]))\n",
    "print('bn ='+str(coeffs[2]))\n",
    "print('-----------------------\\n\\n')"
   ]
  },
  {
   "cell_type": "code",
   "execution_count": 39,
   "id": "aa5b3b21",
   "metadata": {},
   "outputs": [
    {
     "data": {
      "text/plain": [
       "[<matplotlib.lines.Line2D at 0x172a039d8e0>]"
      ]
     },
     "execution_count": 39,
     "metadata": {},
     "output_type": "execute_result"
    },
    {
     "data": {
      "image/png": "[encoded data removed]",
      "text/plain": [
       "<Figure size 432x288 with 1 Axes>"
      ]
     },
     "metadata": {
      "needs_background": "light"
     },
     "output_type": "display_data"
    }
   ],
   "source": [
    "xs=np.linspace(li,lf,100)\n",
    "l = (lf-li)/2.0\n",
    "\n",
    "plt.figure()\n",
    "plt.plot(xs, [ReLu(x) for x in xs], label='ReLu')\n",
    "plt.plot(xs, [fourierSeries(coeffs,x,l,K) for x in xs], marker='x', label='Fourier series')"
   ]
  },
  {
   "cell_type": "code",
   "execution_count": null,
   "id": "93c703ba",
   "metadata": {},
   "outputs": [],
   "source": []
  }
 ],
 "metadata": {
  "kernelspec": {
   "display_name": "Python 3",
   "language": "python",
   "name": "python3"
  },
  "language_info": {
   "codemirror_mode": {
    "name": "ipython",
    "version": 3
   },
   "file_extension": ".py",
   "mimetype": "text/x-python",
   "name": "python",
   "nbconvert_exporter": "python",
   "pygments_lexer": "ipython3",
   "version": "3.8.8"
  }
 },
 "nbformat": 4,
 "nbformat_minor": 5
}
