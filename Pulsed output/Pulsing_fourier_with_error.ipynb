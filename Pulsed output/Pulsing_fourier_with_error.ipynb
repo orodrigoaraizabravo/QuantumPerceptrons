{
 "cells": [
  {
   "cell_type": "code",
   "execution_count": 1,
   "id": "ad2d1a7f",
   "metadata": {},
   "outputs": [],
   "source": [
    "import numpy as np\n",
    "import random\n",
    "import matplotlib.pyplot as plt\n",
    "import scipy.integrate as integrate\n",
    "from scipy.linalg import expm"
   ]
  },
  {
   "cell_type": "code",
   "execution_count": 2,
   "id": "efae3532",
   "metadata": {},
   "outputs": [],
   "source": [
    "sigma_x = np.array([[0.,1.+0.0j],[1.+0.0j,0]])\n",
    "sigma_z = np.array([[1.0,0.0j],[0.0j,-1]])\n",
    "I2 = np.array([[1.0,0.0j],[0.0j,1.0]])"
   ]
  },
  {
   "cell_type": "markdown",
   "id": "faf1fca3",
   "metadata": {},
   "source": [
    "## What should a perceptron look like? \n",
    "\n",
    "Output neurons in systems of perceptrons evolve depending on the state of the input neurons. $|s>|0>$ outlines $s$ as the input neurons and $|0>$ as the output neuron in the rest-state.  With $|s> U(s) |0>$, in the classical case, ideally:\n",
    "\n",
    "Output neurons in systems of perceptrons evolve depending on the state of the input neurons. $|s>|0>$ outlines $s$ as the input neurons and $|0>$ as the output neuron in the rest-state.  With $|s> U(s) |0>$, in the classical case, ideally:\n",
    "\n",
    "$U(s)|0>$ $\\propto$ $|\\Psi_t(h)>$, where $h = \\Sigma_n J_n s_n - \\Delta_0$\n",
    "\n",
    "In this case, input spins that are interacting only with output one via Ising-type interactions are sufficient.\n",
    "\n",
    "## Unitary perceptrons\n",
    "\n",
    "Thus, there exists a natural quantum encoding of a perceptron.  Notable properties of perceptrons include their being unitary and brain-like, as well as $\\Psi$ being used for universal approximation.\n",
    "\n",
    "So far, the evolution on the input neurons is classical, but one can engineer nonclassical Hamiltonians through pulsing.  Nonclassical Hamiltonian evolutions and universal quanutm computation on the input neurons allows for entangling gates, single-qubit rotations, and the \"do-nothing\" operation.\n",
    "\n",
    "The use case for perceptrons is divided into both classical and quantum tasks.  Classical tasks include classification of handwritten digits, using only a few qubits.  This yields an accuracy ~98%.  Quantum tasks include entanglement classification using the output neuron to perform energy measurements.  Some Hamiltonians can be used as entanglement witnesses.\n",
    "\n",
    "## Hamiltonian\n",
    "$H$ = $\\Omega_0/2 \\sigma_0^x$ + $\\sum_{n \\in I} J_n \\sigma_n^z \\sigma_0^z - \\Delta_0 \\sigma_0^z$, \n",
    "\n",
    "which can be approximated as,\n",
    "\n",
    "$H$ = $\\Omega_0/2 \\sigma_0^x$ + $h \\sigma_0^z$\n",
    "\n",
    "The probability of the output being in state $|0>$ is a nonlinear function of h:\n",
    "\n",
    "$P_0$ = $(8h^2 + \\Omega_0^2 + \\Omega_0^2 cos(\\sqrt{4h^2 + \\Omega_0^2 t}))$/$(8h^2 + 2\\Omega_0^2)$\n",
    "\n",
    "## Pulse-sequence and activation functions \n",
    "\n",
    "Let the output start at $|0>$.  The output neuron flips with probability $P_1 = sin^2f(h)t$, where $h = \\Sigma J_n s_n - \\Delta$.\n",
    "\n",
    "We want to implement any $f(h)$ = $\\Sigma c_k $sin$(kh)$, which means we need to implement $e^{(-i \\sigma_0^x t \\sum c_k sin(kh))}$ = $\\Pi_k e^{(-i \\sigma_0^x t c_k sin(kh))}$\n",
    "\n",
    "A single term of this expansion, for small t, yield:"
   ]
  },
  {
   "cell_type": "markdown",
   "id": "2630b8ac",
   "metadata": {},
   "source": [
    "## Functions to calculate the Fourier series"
   ]
  },
  {
   "cell_type": "code",
   "execution_count": 3,
   "id": "71ef49db",
   "metadata": {},
   "outputs": [],
   "source": [
    "#This function returns the Fourier coefficients of a periodic function with [li, lf] as the period\n",
    "def fourier(li, lf, K, f):\n",
    "    l = (lf-li)/2\n",
    "    # Constant term\n",
    "    a0=1/l*integrate.quad(lambda x: f(x), li, lf)[0]\n",
    "    # Cosine coefficents\n",
    "    A = np.zeros((K))\n",
    "    # Sine coefficents\n",
    "    B = np.zeros((K))\n",
    "     \n",
    "    for k in range(1,K+1):\n",
    "        A[k-1]=1/l*integrate.quad(lambda x: f(x)*np.cos(k*np.pi*x/l), li, lf)[0]\n",
    "        B[k-1]=1/l*integrate.quad(lambda x: f(x)*np.sin(k*np.pi*x/l), li, lf)[0]\n",
    " \n",
    "    return [a0/2.0, A, B]\n",
    "\n",
    "# This functions returns the value of the Fourier series for a given value of x given the already calculated Fourier coefficients\n",
    "def fourierSeries(coeffs,x,l,K):\n",
    "    value = coeffs[0]\n",
    "    for k in range(1,K+1):\n",
    "        value = value + coeffs[1][k-1]*np.cos(k*np.pi*x/l) +  coeffs[2][k-1]*np.sin(k*np.pi*x/l)\n",
    "    return value\n",
    "\n",
    "# Function that will convert any given function 'f' defined in a given range '[li,lf]' to a periodic function of period 'lf-li' \n",
    "def periodicf(li,lf,f,x):\n",
    "    if x>=li and x<=lf :\n",
    "        return f(x)\n",
    "    elif x>lf:\n",
    "        x_new=x-(lf-li)\n",
    "        return periodicf(li,lf,f,x_new)\n",
    "    elif x<(li):\n",
    "        x_new=x+(lf-li)\n",
    "        return periodicf(li,lf,f,x_new)"
   ]
  },
  {
   "cell_type": "markdown",
   "id": "70e48b28",
   "metadata": {},
   "source": [
    "## Activation functions"
   ]
  },
  {
   "cell_type": "code",
   "execution_count": 4,
   "id": "de79ffd9",
   "metadata": {},
   "outputs": [],
   "source": [
    "def periodicf(li,lf,f,x):\n",
    "    if x>=li and x<=lf :\n",
    "        return f(x)\n",
    "    elif x>lf:\n",
    "        x_new=x-(lf-li)\n",
    "        return periodicf(li,lf,f,x_new)\n",
    "    elif x<(li):\n",
    "        x_new=x+(lf-li)\n",
    "        return periodicf(li,lf,f,x_new)\n",
    "\n",
    "def ReLu(x):    \n",
    "    if x<0: return 0\n",
    "    else: return x\n",
    "\n",
    "def ReLuP(x, li, lf): \n",
    "    return periodicf(li,lf,ReLu,x)\n",
    "\n",
    "def cosinvsigmoid(x): \n",
    "    return np.arccos(np.sqrt(sigmoid(x)))\n",
    "\n",
    "def sigmoid(x): \n",
    "    return 1/(1+np.exp(-x*np.pi))\n",
    "\n",
    "def sigmoidP(x, li, lf): \n",
    "    return periodicf(li, lf, sigmoid, x)\n",
    "\n",
    "def tanh(x): \n",
    "    return np.tanh(x)\n",
    "\n",
    "def tanhP(x, li, lf): \n",
    "    return periodicf(li, lf, tanh, x)\n",
    "\n",
    "def step(x): \n",
    "    if x<0: return 0\n",
    "    else: return 1\n",
    "    \n",
    "def stepP(x, li, lf): \n",
    "    return periodicf(li, lf, step, x)\n",
    "    \n",
    "def LeakyReLu(x, a=0.01): \n",
    "    if x<0: return a*x\n",
    "    else: return x\n",
    "    \n",
    "def LeakyReLuP(x, li, lf): \n",
    "    return periodicf(li, lf, LeakyReLu, x)\n",
    "\n",
    "def swish(x): \n",
    "    return x*sigmoid(x)\n",
    "\n",
    "def swishP(x, li, lf): \n",
    "    return periodicf(li, lf, swish, x)"
   ]
  },
  {
   "cell_type": "markdown",
   "id": "9705fb8e",
   "metadata": {},
   "source": [
    "## Example: ReLu function"
   ]
  },
  {
   "cell_type": "code",
   "execution_count": 5,
   "id": "e8bc3aba",
   "metadata": {},
   "outputs": [],
   "source": [
    "K=30\n",
    "li, lf= -np.pi, np.pi\n",
    "coeffs = fourier(li,lf,K,ReLu)\n",
    "a0, aks, bks =coeffs[0], np.array(coeffs[1]), np.array(coeffs[2])"
   ]
  },
  {
   "cell_type": "code",
   "execution_count": 6,
   "id": "83b7d773",
   "metadata": {},
   "outputs": [
    {
     "data": {
      "image/png": "[encoded data removed]",
      "text/plain": [
       "<Figure size 432x288 with 1 Axes>"
      ]
     },
     "metadata": {
      "needs_background": "light"
     },
     "output_type": "display_data"
    }
   ],
   "source": [
    "#Plotting it to show the approximation works: \n",
    "hs=np.linspace(-np.pi,np.pi,101)\n",
    "plt.figure()\n",
    "plt.plot(hs, [ReLu(h) for h in hs], color='blue', linewidth=2,linestyle='--')\n",
    "plt.plot(hs, [fourierSeries(coeffs,h,np.pi,K) for h in hs], color='red', linewidth=2,marker='x')\n",
    "plt.show()"
   ]
  },
  {
   "cell_type": "code",
   "execution_count": 7,
   "id": "c9298c1c",
   "metadata": {},
   "outputs": [],
   "source": [
    "#Function that gives us the probability for a value of h, and coefficients\n",
    "def get_prob(h, a0, aks, bks, l, K, psi0, sz=0.01, sx=0.01):\n",
    "    a0=a0+np.random.normal(scale=sx)\n",
    "    aks=aks+np.random.normal(scale=sx, size=len(aks))\n",
    "    bks=bks+np.random.normal(scale=sx, size=len(bks))\n",
    "    \n",
    "    H = a0*sigma_x #(a0+np.random.normal(scale=sigmax))*sigma_x\n",
    "    for k in range(1,K+1): \n",
    "        th = (h+np.random.normal(scale=sz))*k*np.pi/(2*l)\n",
    "        #every theta must be sampled from above with sigmaz within the line\n",
    "        H+=aks[k-1]/2*(I2*np.cos(th)+1j*np.sin(th)*sigma_z)@sigma_x@(I2*np.cos(th)-1j*np.sin(th)*sigma_z)\n",
    "        H+=aks[k-1]/2*(I2*np.cos(th)-1j*np.sin(th)*sigma_z)@sigma_x@(I2*np.cos(th)+1j*np.sin(th)*sigma_z)\n",
    "        th=th+np.pi/4\n",
    "        H+=-bks[k-1]/2*(I2*np.cos(th)+1j*np.sin(th)*sigma_z)@sigma_x@(I2*np.cos(th)-1j*np.sin(th)*sigma_z)\n",
    "        H+=-bks[k-1]/2*(I2*np.cos(th)-1j*np.sin(th)*sigma_z)@sigma_x@(I2*np.cos(th)+1j*np.sin(th)*sigma_z)\n",
    "\n",
    "    return (np.real(psi0.conj().T@expm(-1j*H)@psi0).item())**2\n",
    "\n",
    "def get_prob_toy(h, a0, aks, bks, l, K, psi0): \n",
    "    fh = a0\n",
    "    for k in range(1,K+1): \n",
    "        fh+= aks[k-1]*np.cos(h*k*np.pi/l)\n",
    "        fh+= bks[k-1]*np.sin(h*k*np.pi/l)\n",
    "    return (np.real(psi0.conj().T@expm(-1j*fh*sigma_x)@psi0).item())**2\n",
    "\n",
    "def get_prob_hardcode(f, h, psi0): \n",
    "    return (np.real(psi0.conj().T@expm(-1j*f(h)*sigma_x)@psi0).item())**2"
   ]
  },
  {
   "cell_type": "code",
   "execution_count": 10,
   "id": "8d05c16a",
   "metadata": {},
   "outputs": [
    {
     "name": "stdout",
     "output_type": "stream",
     "text": [
      "0.4999999999999998 0.4999999999999998 1.0\n",
      "0.8432507159100256 0.8432507159100254 0.8012229541123499\n"
     ]
    }
   ],
   "source": [
    "#Initial state\n",
    "psi0 = np.array([[1.0],[0.0j]])\n",
    "\n",
    "#Let's test out function. For h=0, ReLu(h)=0 so exp(-1j*sigmax*f(h))=identity\n",
    "p= get_prob(0, a0, aks, bks, np.pi, K, psi0,sx=0,sz=0)\n",
    "p_toy = get_prob_toy(0, a0, aks, bks, np.pi, K, psi0)\n",
    "p_hc = get_prob_hardcode(tanh,0, psi0)\n",
    "print(p, p_toy, p_hc)\n",
    "\n",
    "#A bit more complicated\n",
    "h=1/2\n",
    "p= get_prob(h, a0, aks, bks, np.pi, K, psi0,sx=0,sz=0)\n",
    "p_toy = get_prob_toy(h, a0, aks, bks, np.pi, K, psi0)\n",
    "p_hc = get_prob_hardcode(tanh,h, psi0)\n",
    "print(p, p_toy, p_hc)"
   ]
  },
  {
   "cell_type": "code",
   "execution_count": 9,
   "id": "4a7f661e",
   "metadata": {},
   "outputs": [],
   "source": [
    "#With 0.01 noise\n",
    "hs= np.linspace(-3,3,100)\n",
    "ps = [get_prob(h, a0, aks, bks, np.pi, K, psi0,sx=0.01, sz=0.1) for h in hs]\n",
    "ps_toy = [get_prob_toy(h, a0, aks, bks, np.pi, K, psi0) for h in hs]\n",
    "ps_hc = [get_prob_hardcode(ReLu, h, psi0) for h in hs]"
   ]
  },
  {
   "cell_type": "code",
   "execution_count": 10,
   "id": "34d3d2b9",
   "metadata": {},
   "outputs": [
    {
     "data": {
      "image/png": "[encoded data removed]",
      "text/plain": [
       "<Figure size 432x288 with 1 Axes>"
      ]
     },
     "metadata": {
      "needs_background": "light"
     },
     "output_type": "display_data"
    }
   ],
   "source": [
    "plt.figure()\n",
    "plt.plot(hs, ps)\n",
    "#plt.plot(hs, ps_toy)\n",
    "plt.plot(hs, ps_hc)\n",
    "plt.show()"
   ]
  },
  {
   "cell_type": "code",
   "execution_count": 11,
   "id": "689669ae",
   "metadata": {},
   "outputs": [
    {
     "data": {
      "text/plain": [
       "0.019336671482339713"
      ]
     },
     "execution_count": 11,
     "metadata": {},
     "output_type": "execute_result"
    }
   ],
   "source": [
    "from sklearn.metrics import mean_squared_error\n",
    "mean_squared_error(np.array(ps_hc),np.array(ps))"
   ]
  },
  {
   "cell_type": "markdown",
   "id": "5fb3dd88",
   "metadata": {},
   "source": [
    "## Example: sigmoid"
   ]
  },
  {
   "cell_type": "code",
   "execution_count": 8,
   "id": "2764b419",
   "metadata": {},
   "outputs": [],
   "source": [
    "K=10\n",
    "li, lf= -np.pi, np.pi\n",
    "coeffs = fourier(li,lf,K,cosinvsigmoid)\n",
    "a0, aks, bks =coeffs[0], np.array(coeffs[1]), np.array(coeffs[2])"
   ]
  },
  {
   "cell_type": "code",
   "execution_count": 11,
   "id": "f1aa7691",
   "metadata": {},
   "outputs": [],
   "source": [
    "#With 0.01 noise\n",
    "hs= np.linspace(-3,3,100)\n",
    "ps = [get_prob(h, a0, aks, bks, np.pi, K, psi0,sx=0.0, sz=0.0) for h in hs]\n",
    "ps_noise = [get_prob(h, a0, aks, bks, np.pi, K, psi0,sx=0.05, sz=0.05) for h in hs]"
   ]
  },
  {
   "cell_type": "code",
   "execution_count": 12,
   "id": "7c36cb33",
   "metadata": {
    "scrolled": true
   },
   "outputs": [
    {
     "data": {
      "image/png": "[encoded data removed]",
      "text/plain": [
       "<Figure size 432x288 with 1 Axes>"
      ]
     },
     "metadata": {
      "needs_background": "light"
     },
     "output_type": "display_data"
    }
   ],
   "source": [
    "plt.figure()\n",
    "plt.plot(hs, ps)\n",
    "#plt.plot(hs, ps_noise)\n",
    "plt.plot(hs, [sigmoid(h) for h in hs])\n",
    "plt.show()"
   ]
  },
  {
   "cell_type": "code",
   "execution_count": 27,
   "id": "0c3146ec",
   "metadata": {},
   "outputs": [
    {
     "data": {
      "image/png": "[encoded data removed]",
      "text/plain": [
       "<Figure size 432x288 with 1 Axes>"
      ]
     },
     "metadata": {
      "needs_background": "light"
     },
     "output_type": "display_data"
    }
   ],
   "source": []
  },
  {
   "cell_type": "code",
   "execution_count": null,
   "id": "881ed637",
   "metadata": {},
   "outputs": [],
   "source": []
  }
 ],
 "metadata": {
  "kernelspec": {
   "display_name": "Python 3",
   "language": "python",
   "name": "python3"
  },
  "language_info": {
   "codemirror_mode": {
    "name": "ipython",
    "version": 3
   },
   "file_extension": ".py",
   "mimetype": "text/x-python",
   "name": "python",
   "nbconvert_exporter": "python",
   "pygments_lexer": "ipython3",
   "version": "3.8.8"
  }
 },
 "nbformat": 4,
 "nbformat_minor": 5
}
